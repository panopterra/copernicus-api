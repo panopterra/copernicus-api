{
 "cells": [
  {
   "cell_type": "markdown",
   "metadata": {},
   "source": [
    "# Copernicus Query and Download Test\n",
    "\n",
    "(c) 2024 Panopterra UG (haftungsbeschraenkt)\n",
    "\n",
    "---"
   ]
  },
  {
   "cell_type": "markdown",
   "metadata": {},
   "source": [
    "#### Load packages and modules"
   ]
  },
  {
   "cell_type": "code",
   "execution_count": null,
   "metadata": {},
   "outputs": [],
   "source": [
    "import os\n",
    "import pytest"
   ]
  },
  {
   "cell_type": "markdown",
   "metadata": {},
   "source": [
    "### Import packages and modules for unit testing"
   ]
  },
  {
   "cell_type": "code",
   "execution_count": null,
   "metadata": {},
   "outputs": [],
   "source": [
    "import hashlib\n",
    "from datetime import datetime\n",
    "\n",
    "import geopandas as gpd\n",
    "import numpy as np\n",
    "\n",
    "from copernicusapi.src.query_constructor import QueryConstructor"
   ]
  },
  {
   "cell_type": "markdown",
   "metadata": {},
   "source": [
    "### Setting up packages and modules (optional)"
   ]
  },
  {
   "cell_type": "markdown",
   "metadata": {},
   "source": [
    "---\n",
    "## Unit test preparation"
   ]
  },
  {
   "cell_type": "markdown",
   "metadata": {},
   "source": [
    "### Helper functions"
   ]
  },
  {
   "cell_type": "code",
   "execution_count": null,
   "metadata": {},
   "outputs": [],
   "source": [
    "def configure_query_constructor(query_constructor, settings_dict):\n",
    "    \"\"\"\n",
    "    Configures a QueryConstructor instance based on provided settings.\n",
    "    \"\"\"\n",
    "\n",
    "    for key, value in settings_dict.items():\n",
    "        if key == 'collection':\n",
    "            query_constructor.add_collection_filter(value)\n",
    "        elif key == 'publication_date':\n",
    "            query_constructor.add_publication_date_filter(*value)\n",
    "        elif key == 'sensing_start_date':\n",
    "            query_constructor.add_sensing_start_date_filter(*value)\n",
    "        elif key == 'sensing_end_date':\n",
    "            query_constructor.add_sensing_end_date_filter(*value)\n",
    "        elif key == 'aoi':\n",
    "            query_constructor.add_aoi_filter(value)\n",
    "        elif key == 'cloud_cover':\n",
    "            query_constructor.add_cloud_cover_filter(value)\n",
    "        elif key == 'product_type':\n",
    "            query_constructor.add_product_type_filter(value)\n",
    "        elif key == 'attribute':\n",
    "            for item in value:\n",
    "                query_constructor.add_attribute_filter(**item)\n",
    "    \n",
    "    return query_constructor"
   ]
  },
  {
   "cell_type": "markdown",
   "metadata": {},
   "source": [
    "### Test cases"
   ]
  },
  {
   "cell_type": "code",
   "execution_count": null,
   "metadata": {},
   "outputs": [],
   "source": [
    "@pytest.fixture\n",
    "def create_query_constructor_test_case(test_resources_dir):\n",
    "    \"\"\"\n",
    "    Creates test cases for use in QueryConstructor tests.\n",
    "    \"\"\"\n",
    "\n",
    "    def _test_case(test_case):\n",
    "        if test_case == 'test_case1':\n",
    "            test_case = {}\n",
    "            gdf = gpd.read_file(os.path.join(test_resources_dir, 'aoi1_point.geojson'))\n",
    "            test_case['settings'] = {'aoi': gdf['geometry'].values.tolist()[0],\n",
    "                                     'collection': 'sentinel-2',\n",
    "                                     'product_type': 'l2a',\n",
    "                                     'sensing_start_date': (datetime(2023, 7, 5), '2023-10-28T19:33:12.021Z'),\n",
    "                                     'cloud_cover': 35\n",
    "                                    }\n",
    "            test_case['n_products'] = 9\n",
    "            test_case['aoi_coverage'] = 1.0\n",
    "        elif test_case == 'test_case2':\n",
    "            test_case = {}\n",
    "            gdf = gpd.read_file(os.path.join(test_resources_dir, 'aoi1_point.geojson'))\n",
    "            test_case['settings'] = {'aoi': gdf['geometry'].values.tolist()[0],\n",
    "                                     'collection': 'sentinel-2',\n",
    "                                     'product_type': 'l1c',\n",
    "                                     'sensing_end_date': ('2020-05-01T03:24:33.998Z', '2020-08-11T22:00:11.633Z'),\n",
    "                                     'cloud_cover': (10, 22),\n",
    "                                    }\n",
    "            test_case['n_products'] = 4\n",
    "            test_case['aoi_coverage'] = 1.0\n",
    "        elif test_case == 'test_case3':\n",
    "            test_case = {}\n",
    "            gdf = gpd.read_file(os.path.join(test_resources_dir, 'aoi2_polygon.geojson'))\n",
    "            test_case['settings'] = {'aoi': gdf['geometry'].values.tolist()[0],\n",
    "                                    'collection': 'sentinel-1',\n",
    "                                    'product_type': 'grd',\n",
    "                                    'sensing_end_date': (datetime(2016, 9, 28), datetime(2016, 10, 23, 21, 31, 22)),\n",
    "                                    'attribute': [{'name': 'orbitDirection', 'operator': 'eq', 'value': 'ASCENDING', 'attribute_type': 'String'}]\n",
    "                                    }\n",
    "            test_case['n_products'] = 7\n",
    "            test_case['aoi_coverage'] = 0.999\n",
    "        elif test_case == 'test_case4':\n",
    "            test_case = {}\n",
    "            gdf = gpd.read_file(os.path.join(test_resources_dir, 'aoi3_self_intersecting_polygon.geojson'))\n",
    "            test_case['settings'] = {'aoi': gdf['geometry'].values.tolist()[0],\n",
    "                                     'collection': 'sentinel-1',\n",
    "                                     'product_type': 'slc',\n",
    "                                     'sensing_end_date': (datetime(2018, 8, 7, 0, 52, 11), datetime(2018, 8, 12)),\n",
    "                                     'attribute': [{'name': 'polarisationChannels', 'operator': 'eq', 'value': 'VV&VH', 'attribute_type': 'String'}]\n",
    "                                    }\n",
    "            test_case['n_products'] = 5\n",
    "            test_case['aoi_coverage'] = 0.467\n",
    "        elif test_case == 'test_case5':\n",
    "            test_case = {}\n",
    "            gdf = gpd.read_file(os.path.join(test_resources_dir, 'aoi4_multipolygon1.geojson'))\n",
    "            test_case['settings'] = {'aoi': gdf['geometry'].values.tolist()[0],\n",
    "                                    'collection': 'sentinel-3',\n",
    "                                    'product_type': 'OL_2_LFR___',\n",
    "                                    'sensing_end_date': (datetime(2018, 8, 22, 0, 3, 56), datetime(2018, 9, 2, 23, 59, 59)),\n",
    "                                    'attribute': [{'name': 'orbitDirection', 'operator': 'eq', 'value': 'DESCENDING', 'attribute_type': 'String'},\n",
    "                                                {'name': 'processingLevel', 'operator': 'eq', 'value': '2', 'attribute_type': 'String'}\n",
    "                                                ]\n",
    "                                    }\n",
    "            test_case['n_products'] = 20\n",
    "            test_case['aoi_coverage'] = 1.0\n",
    "        elif test_case == 'test_case6':\n",
    "            test_case = {}\n",
    "            gdf = gpd.read_file(os.path.join(test_resources_dir, 'aoi5_multipolygon2.geojson'))\n",
    "            test_case['settings'] = {'aoi': gdf['geometry'].values.tolist()[0],\n",
    "                                    'collection': 'sentinel-5p',\n",
    "                                    'product_type': 'L2__CH4___',\n",
    "                                    'sensing_end_date': (datetime(2021, 12, 15), datetime(2022, 1, 5, 23, 59, 59)),\n",
    "                                    }\n",
    "            test_case['n_products'] = 44\n",
    "            test_case['aoi_coverage'] = 1.0\n",
    "        elif test_case == 'test_case7':\n",
    "            test_case = {}\n",
    "            test_case['settings'] = {'product_names': ['S2B_MSIL1C_20230101T102339_N0509_R065_T32UNU_20230101T105601.SAFE',\n",
    "                                                       'S1A_IW_GRDH_1SDV_20240208T053520_20240208T053545_052463_065842_F89D.SAFE',\n",
    "                                                       'S1A_IW_GRDH_1SDV_20240208T053520_20240208T053545_052463_065842_F89D-.SAFE', # deliberately wrong name\n",
    "                                                       'S3A_OL_2_WFR____20190228T092807_20190228T093107_20190301T190540_0179_042_036_2160_MAR_O_NT_002.SEN3']\n",
    "                                    }\n",
    "            test_case['n_products'] = 3\n",
    "            test_case['aoi_coverage'] = 0.\n",
    "\n",
    "        return test_case\n",
    "    \n",
    "    return _test_case"
   ]
  },
  {
   "cell_type": "markdown",
   "metadata": {},
   "source": [
    "---\n",
    "## Unit test definition"
   ]
  },
  {
   "cell_type": "markdown",
   "metadata": {},
   "source": [
    "### QueryConstructor"
   ]
  },
  {
   "cell_type": "code",
   "execution_count": null,
   "metadata": {},
   "outputs": [],
   "source": [
    "@pytest.mark.timeout(300)\n",
    "@pytest.mark.integration_test\n",
    "@pytest.mark.parametrize(\"test_case\", ['test_case1',\n",
    "                                       'test_case2',\n",
    "                                       'test_case3',\n",
    "                                       'test_case4',\n",
    "                                       'test_case5',\n",
    "                                       'test_case6',\n",
    "                                       'test_case7',\n",
    "                                       ])\n",
    "def test_query_constructor(test_case, create_query_constructor_test_case):\n",
    "    \"\"\"\n",
    "    Tests the QueryConstructor class.\n",
    "    \"\"\"\n",
    "\n",
    "    test_case = create_query_constructor_test_case(test_case)\n",
    "    \n",
    "    qc = QueryConstructor()\n",
    "    # special handling of query_by_name\n",
    "    if 'product_names' in test_case['settings'].keys():\n",
    "        products, _ = qc.query_by_name(test_case['settings']['product_names'])\n",
    "    else:\n",
    "        qc = configure_query_constructor(qc, test_case['settings'])\n",
    "        products, _ = qc.send_query()\n",
    "    assert len(products) == test_case['n_products']\n",
    "    assert qc.aoi_coverage >= test_case['aoi_coverage']\n",
    "\n",
    "    # verify that products property is the same as what is returned\n",
    "    products2 = qc.products\n",
    "    products[products.isna()] = 0.\n",
    "    products = products.sort_values('Name').reset_index(drop=True)\n",
    "    products2[products2.isna()] = 0.\n",
    "    products2 = products2.sort_values('Name').reset_index(drop=True)\n",
    "    assert np.sum((products == products2).values) == products.values.size"
   ]
  }
 ],
 "metadata": {
  "kernelspec": {
   "display_name": "panopterra",
   "language": "python",
   "name": "python3"
  },
  "language_info": {
   "codemirror_mode": {
    "name": "ipython",
    "version": 3
   },
   "file_extension": ".py",
   "mimetype": "text/x-python",
   "name": "python",
   "nbconvert_exporter": "python",
   "pygments_lexer": "ipython3",
   "version": "3.11.8"
  }
 },
 "nbformat": 4,
 "nbformat_minor": 4
}
