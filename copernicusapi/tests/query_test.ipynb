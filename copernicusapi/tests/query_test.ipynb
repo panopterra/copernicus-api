{
 "cells": [
  {
   "cell_type": "markdown",
   "metadata": {},
   "source": [
    "# Query Test\n",
    "\n",
    "(c) 2024 Panopterra UG (haftungsbeschraenkt)\n",
    "\n",
    "---"
   ]
  },
  {
   "cell_type": "markdown",
   "metadata": {},
   "source": [
    "#### Load packages and modules"
   ]
  },
  {
   "cell_type": "code",
   "execution_count": null,
   "metadata": {},
   "outputs": [],
   "source": []
  },
  {
   "cell_type": "markdown",
   "metadata": {},
   "source": [
    "### Import packages and modules for unit testing"
   ]
  },
  {
   "cell_type": "code",
   "execution_count": null,
   "metadata": {},
   "outputs": [],
   "source": [
    "from copernicusapi.src.query import interpret_collection_name, interpret_product_type"
   ]
  },
  {
   "cell_type": "markdown",
   "metadata": {},
   "source": [
    "### Setting up packages and modules (optional)"
   ]
  },
  {
   "cell_type": "markdown",
   "metadata": {},
   "source": [
    "---\n",
    "## Unit test preparation"
   ]
  },
  {
   "cell_type": "markdown",
   "metadata": {},
   "source": [
    "### Test cases"
   ]
  },
  {
   "cell_type": "code",
   "execution_count": null,
   "metadata": {},
   "outputs": [],
   "source": [
    "PRODUCT_TYPE_TEST_CASES = {\n",
    "                            # Sentinel-1 \n",
    "                            'backscatter': 'CARD-BS',\n",
    "                            'CardBS': 'CARD-BS',\n",
    "                            'Cardcoh': 'CARD-COH6',\n",
    "                            'Coherence': 'CARD-COH6',\n",
    "                            'raw': 'RAW',\n",
    "                            'level0': 'RAW',\n",
    "                            'slc': 'SLC',\n",
    "                            'Single Look Complex': 'SLC',\n",
    "                            'grd': 'GRD',\n",
    "                            'Ground Range Detected': 'GRD',\n",
    "                            'ocn': 'OCN',\n",
    "                            'Ocean': 'OCN',\n",
    "\n",
    "                            # Sentinel-2\n",
    "                            'l1c': 'S2MSI1C',\n",
    "                            'level1c': 'S2MSI1C',\n",
    "                            'toa': 'S2MSI1C',\n",
    "                            'l2a': 'S2MSI2A',\n",
    "                            'level2a': 'S2MSI2A',\n",
    "                            'boa': 'S2MSI2A',\n",
    "\n",
    "                            # Sentinel-3 OLCI\n",
    "                            'ol1efr': 'EFR',\n",
    "                            'err': 'ERR',\n",
    "                            'ol2-wfr': 'WFR',\n",
    "                            'OLCIwrr': 'WRR',\n",
    "                            'olci LFR': 'LFR',\n",
    "                            'lrr': 'LRR',\n",
    "\n",
    "                            # Sentinel-3 SLSTR\n",
    "                            'rbt': 'RBT',\n",
    "                            'sl2lst': 'LST',\n",
    "                            'slstrwst': 'WST',\n",
    "                            'wct': 'WCT',\n",
    "                            'sl2frp': 'FRP',\n",
    "\n",
    "                            # Sentinel-3 SRAL\n",
    "                            'sr1sra': 'SRA',\n",
    "                            'sraa': 'SRA_A',\n",
    "                            'SRALsrabs': 'SRA_BS',\n",
    "                            'lan': 'LAN',\n",
    "                            'LAN-HY': 'LAN_HY',\n",
    "                            'LAN SI': 'LAN_SI',\n",
    "                            'SRAL LAN LI': 'LAN_LI',\n",
    "                            'wat': 'WAT',\n",
    "\n",
    "                            # Sentinel-3 Synergy\n",
    "                            'Synergy': 'SYN',\n",
    "                            'Vegetationp': 'VGP',\n",
    "                            'vG1': 'VG1',\n",
    "                            'Vegetation S10': 'VG10',\n",
    "                            'Aerosol Optical Depth': 'AOD',\n",
    "\n",
    "                            # Sentinel-5p\n",
    "                            'l1bra1': 'L1B_RA_BD1',\n",
    "                            'RA3': 'L1B_RA_BD3',\n",
    "                            'L1B RA5': 'L1B_RA_BD5',\n",
    "                            'IR SIR': 'IR_SIR',\n",
    "                            'L1B IRUVN': 'IR_UVN',\n",
    "                            'L2 O3': 'L2__O3____',\n",
    "                            'O3 TCL': 'L2__O3_TCL',\n",
    "                            'O3pr': 'L2__O3__PR',\n",
    "                            'NO2': 'L2__NO2___',\n",
    "                            'so2': 'L2__SO2___',\n",
    "                            'l2 CH4': 'L2__CH4___',\n",
    "                            'HCHo': 'L2__HCHO__',\n",
    "                            'L2cloud': 'L2__CLOUD_',\n",
    "                            'L2 AER AI': 'L2__AER_AI',\n",
    "                            'aer Lh': 'L2__AER_LH',\n",
    "\n",
    "                            # Landsat-5\n",
    "                            'l1g': 'L1G',\n",
    "                            'level1g': 'L1G',\n",
    "                            'level1t': 'L1T',\n",
    "                            'terrain-corrected': 'L1T',\n",
    "\n",
    "                            # Landsat-7\n",
    "                            'Level1 GT': 'L1GT',\n",
    "                            'Geocorrected Terrain Corrected': 'L1GT',\n",
    "                            'Global Land Survey': 'GTC_1P',\n",
    "\n",
    "                            # Landsat-8\n",
    "                            'Level-1 TP': 'L1TP',\n",
    "                            'Surface Reflectance': 'L2SP'\n",
    "                            }"
   ]
  },
  {
   "cell_type": "markdown",
   "metadata": {},
   "source": [
    "---\n",
    "## Unit test definition"
   ]
  },
  {
   "cell_type": "markdown",
   "metadata": {},
   "source": [
    "### interpret_collection_name"
   ]
  },
  {
   "cell_type": "code",
   "execution_count": null,
   "metadata": {},
   "outputs": [],
   "source": [
    "def test_interpret_collection_name():\n",
    "    \"\"\"\n",
    "    Tests interpret_collection_name.\n",
    "    \"\"\"\n",
    "\n",
    "    # Sentinel missions\n",
    "    for mission_number in ('1', '2', '3', '5P', '6', '1-rtc'):\n",
    "        for collection_root in ('Sentinel', 'sentiNEL-', 'S', 's'):\n",
    "            assert interpret_collection_name(f'{collection_root}{mission_number}') == f'SENTINEL-{mission_number.upper()}'\n",
    "\n",
    "    # Mosaics\n",
    "    for collection in ('globalmosaics', 'Global-Mosaics'):\n",
    "        assert interpret_collection_name(collection) == 'GLOBAL-MOSAICS'\n",
    "\n",
    "    # SMOS\n",
    "    assert interpret_collection_name('Smos') == 'SMOS'\n",
    "\n",
    "    # ENVISAT\n",
    "    for collection in ('envi-sat', 'MERIS'):\n",
    "        assert interpret_collection_name(collection) == 'ENVISAT'\n",
    "\n",
    "    # Landsat missions\n",
    "    for mission_number in ('5', '7', '8'):\n",
    "        for collection_root in ('Landsat', 'LandSAT-', 'L', 'Ls'):\n",
    "            assert interpret_collection_name(f'{collection_root}{mission_number}') == f'LANDSAT-{mission_number}'\n",
    "    \n",
    "    # Copernicus DEM\n",
    "    for collection in ('cop DEM', 'CopernicusDEM'):\n",
    "        assert interpret_collection_name(collection) == 'COP-DEM'\n",
    "\n",
    "    # MODIS\n",
    "    for collection in ('Terra', 'AQUA', 'Terra_Aqua', 'Modis'):\n",
    "        assert interpret_collection_name(collection) == 'TERRAAQUA'\n",
    "\n",
    "    # Global Land Cover\n",
    "    for collection in ('S-2 GLC', 'Global Land Cover', 'GLC'):\n",
    "        assert interpret_collection_name(collection) == 'S2GLC'\n",
    "\n",
    "    # CCM\n",
    "    for collection in ('ccm', 'Copernicus Contributing Missions'):\n",
    "        assert interpret_collection_name(collection) == 'CCM'"
   ]
  },
  {
   "cell_type": "markdown",
   "metadata": {},
   "source": [
    "### interpret_product_type"
   ]
  },
  {
   "cell_type": "code",
   "execution_count": null,
   "metadata": {},
   "outputs": [],
   "source": [
    "def test_interpret_product_type():\n",
    "    \"\"\"\n",
    "    Tests interpret_product_type.\n",
    "    \"\"\"\n",
    "\n",
    "    for input_name, output_name in PRODUCT_TYPE_TEST_CASES.items():\n",
    "        assert interpret_product_type(input_name) == output_name"
   ]
  }
 ],
 "metadata": {
  "kernelspec": {
   "display_name": "panopterra",
   "language": "python",
   "name": "python3"
  },
  "language_info": {
   "codemirror_mode": {
    "name": "ipython",
    "version": 3
   },
   "file_extension": ".py",
   "mimetype": "text/x-python",
   "name": "python",
   "nbconvert_exporter": "python",
   "pygments_lexer": "ipython3",
   "version": "3.11.8"
  }
 },
 "nbformat": 4,
 "nbformat_minor": 4
}
