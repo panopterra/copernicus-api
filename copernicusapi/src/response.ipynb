{
 "cells": [
  {
   "cell_type": "markdown",
   "metadata": {},
   "source": [
    "# Response\n",
    "\n",
    "(c) 2024 Panopterra UG (haftungsbeschraenkt)\n",
    "\n",
    "This module contains utilities that help interpret the API response and extract\n",
    "additional information."
   ]
  },
  {
   "cell_type": "code",
   "execution_count": null,
   "metadata": {},
   "outputs": [],
   "source": [
    "import numpy as np"
   ]
  },
  {
   "cell_type": "code",
   "execution_count": null,
   "metadata": {},
   "outputs": [],
   "source": [
    "def get_checksums(checksum_entry : list[dict]) -> tuple[str,str]:\n",
    "    \"\"\"\n",
    "    Retrieves all available checksums from entry.\n",
    "    NOTE: intended for use in pandas/geopandas .apply().\n",
    "    \n",
    "    Parameters\n",
    "    ----------\n",
    "    checksum_entry : list of dict\n",
    "        The content of the 'Checksum' entry for a product.\n",
    "    \n",
    "    Returns\n",
    "    -------\n",
    "    str\n",
    "        The MD5 checksum. If not available, returns None.\n",
    "    str\n",
    "        The BLAKE3 checksum. If not available, returns None.\n",
    "    \"\"\"\n",
    "\n",
    "    if len(checksum_entry) > 0:\n",
    "        if len(checksum_entry[0]) > 0:\n",
    "            if 'MD5' in [item['Algorithm'].upper() for item in checksum_entry]:\n",
    "                checksum_md5 = [item for item in checksum_entry if item['Algorithm'].upper() == 'MD5'][0]['Value']\n",
    "            else:\n",
    "                checksum_md5 = None\n",
    "            if 'BLAKE3' in [item['Algorithm'].upper() for item in checksum_entry]:\n",
    "                checksum_blake3 = [item for item in checksum_entry if item['Algorithm'].upper() == 'BLAKE3'][0]['Value']\n",
    "            else:\n",
    "                checksum_blake3 = None\n",
    "            return checksum_md5, checksum_blake3\n",
    "        else:\n",
    "            return None, None\n",
    "    else: return None, None"
   ]
  },
  {
   "cell_type": "code",
   "execution_count": null,
   "metadata": {},
   "outputs": [],
   "source": [
    "def get_cloud_cover(attributes : list[dict]) -> float:\n",
    "    \"\"\"\n",
    "    Retrieves the cloud cover from attributes list of a product.\n",
    "    NOTE: intended for use in pandas/geopandas .apply().\n",
    "    \n",
    "    Parameters\n",
    "    ----------\n",
    "    attributes : list of dict\n",
    "        The attributes list as obtained from API result (from the 'Attributes' entry).\n",
    "    \n",
    "    Returns\n",
    "    -------\n",
    "    float\n",
    "        The cloud cover percentage. Returns np.nan if no 'cloudCover' attribute was found.\n",
    "    \"\"\"\n",
    "\n",
    "    if len(attributes) == 0:\n",
    "        return np.nan\n",
    "    else:\n",
    "        for item in attributes:\n",
    "            if 'Name' in item.keys():\n",
    "                if item['Name'] == 'cloudCover':\n",
    "                    return float(item['Value'])\n",
    "        return np.nan"
   ]
  },
  {
   "cell_type": "code",
   "execution_count": null,
   "metadata": {},
   "outputs": [],
   "source": [
    "def determine_group_tile_identifier(name : str) -> str:\n",
    "    \"\"\"\n",
    "    Retrieves the unique group/tile identification information from a product name.\n",
    "    NOTE: intended for use in pandas/geopandas .apply().\n",
    "    \n",
    "    Parameters\n",
    "    ----------\n",
    "    name : str\n",
    "        The full product name (from the 'Name' entry).\n",
    "    \n",
    "    Returns\n",
    "    -------\n",
    "    str\n",
    "        The unique group tile identifier.\n",
    "\n",
    "    Notes\n",
    "    -----\n",
    "    Currently only implemented for Sentinel-1, Sentinel-2, Sentinel-3 and Sentinel-5 products.\n",
    "    \"\"\"\n",
    "\n",
    "    name_parts = [p for p in name.split('_') if len(p) > 0]\n",
    "    name_parts = name.split('_')\n",
    "    if name.startswith('S1'):\n",
    "        if len(name_parts) > 7:\n",
    "            return name_parts[7]\n",
    "        else:\n",
    "            return name_parts[-1]\n",
    "    elif name.startswith('S2'):\n",
    "        return '_'.join(name_parts[4:6])\n",
    "    elif name.startswith('S3'):\n",
    "        if '_SY_' in name:\n",
    "            return '-'\n",
    "        else:\n",
    "            return '_'.join(name_parts[10:12])\n",
    "    elif name.startswith('S5'):\n",
    "        return name_parts[-4]"
   ]
  }
 ],
 "metadata": {
  "language_info": {
   "name": "python"
  }
 },
 "nbformat": 4,
 "nbformat_minor": 2
}
