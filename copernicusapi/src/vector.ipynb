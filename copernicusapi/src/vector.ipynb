{
 "cells": [
  {
   "cell_type": "markdown",
   "metadata": {},
   "source": [
    "# Vector\n",
    "\n",
    "(c) 2024 Panopterra UG (haftungsbeschraenkt)\n",
    "\n",
    "This module contains utilities for operations on vector geometries."
   ]
  },
  {
   "cell_type": "code",
   "execution_count": null,
   "metadata": {},
   "outputs": [],
   "source": [
    "import pyproj\n",
    "import shapely\n",
    "from shapely.ops import transform"
   ]
  },
  {
   "cell_type": "code",
   "execution_count": null,
   "metadata": {},
   "outputs": [],
   "source": [
    "def reproject_geometry(geom : shapely.geometry, \n",
    "                       source_epsg : int, \n",
    "                       target_epsg : int) -> shapely.geometry:\n",
    "    \"\"\"\n",
    "    Projects a given vector geometry object from one CRS to another.\n",
    "    \n",
    "    Parameters\n",
    "    ----------\n",
    "    geom : shapely.geometry object\n",
    "        The geometry to reproject.\n",
    "    source_epsg : int\n",
    "        The EPSG of the source projection of the geometry.\n",
    "    target_proj : str or int or float or pyproj.CRS\n",
    "        The EPSG of the target projection of the geometry.\n",
    "\n",
    "    Returns\n",
    "    -------\n",
    "    shapely.geometry object\n",
    "        Projected version of geometry.\n",
    "    \"\"\"\n",
    "\n",
    "    # skip process if source and target CRS are identical\n",
    "    if source_epsg == target_epsg:\n",
    "        return geom\n",
    "\n",
    "    project = pyproj.Transformer.from_crs(source_epsg, target_epsg, always_xy=True).transform\n",
    "    reprojected_geom = transform(project, geom)\n",
    "    return reprojected_geom"
   ]
  }
 ],
 "metadata": {
  "language_info": {
   "name": "python"
  }
 },
 "nbformat": 4,
 "nbformat_minor": 2
}
