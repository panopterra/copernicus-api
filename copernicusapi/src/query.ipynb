{
 "cells": [
  {
   "cell_type": "markdown",
   "metadata": {},
   "source": [
    "# Query\n",
    "(c) 2024 Panopterra UG (haftungsbeschraenkt)\n",
    "\n",
    "This module contains utilities to prepare settings for a valid API query string."
   ]
  },
  {
   "cell_type": "code",
   "execution_count": null,
   "metadata": {},
   "outputs": [],
   "source": [
    "def reduce_wkt_coordinate_precision(wkt_str : str,\n",
    "                                    decimals : int = 4) -> str:\n",
    "    \"\"\"\n",
    "    Reduces the coordinate precision of a WKT string.\n",
    "    NOTE: currently only implemented for POINT and POLYGON objects.\n",
    "    \n",
    "    Parameters\n",
    "    ----------\n",
    "    wkt_str : str\n",
    "        The original WKT string.\n",
    "    decimals : int; default=4\n",
    "        The number of decimals to keep.\n",
    "        NOTE: decimal places are cut off, not rounded.\n",
    "    \n",
    "    Returns\n",
    "    -------\n",
    "    str\n",
    "        The WKT string with reduced coordinate precision.\n",
    "    \"\"\"\n",
    "\n",
    "    if wkt_str.strip().startswith('POLYGON'):\n",
    "        coords_str = wkt_str.split('((')[-1].replace('))', '')\n",
    "        coords_str_pairs = coords_str.split(', ')\n",
    "        coords_pairs = [(float(x.split(' ')[0]), float(x.split(' ')[1])) for x in coords_str_pairs]\n",
    "\n",
    "        if len(coords_pairs) == 1:\n",
    "            return f'POINT ({coords_pairs[0][0]:.{decimals}f} {coords_pairs[0][1]:.{decimals}f})'\n",
    "        else:\n",
    "            coords_str_clipped = [f'{c[0]:.{decimals}f} {c[1]:.{decimals}f}' for c in coords_pairs]\n",
    "            return f\"POLYGON (({', '.join(coords_str_clipped)}))\"\n",
    "    elif wkt_str.strip().startswith('MULTIPOLYGON'):\n",
    "        coords_str = wkt_str.split('(((')[-1].replace(')))', '')\n",
    "        if ')),' in coords_str:\n",
    "            polygons_str = coords_str.split(')),')\n",
    "        else:\n",
    "            polygons_str = [coords_str]\n",
    "        polygons_str = [p.lstrip('( ').rstrip('), ') for p in polygons_str]\n",
    "        coords_str_pairs = [p.split(', ') for p in polygons_str]\n",
    "        coords_pairs = [[(float(x.split(' ')[0]), float(x.split(' ')[1])) for x in p] for p in coords_str_pairs]\n",
    "        coords_str_clipped = [[f'{c[0]:.{decimals}f} {c[1]:.{decimals}f}' for c in p] for p in coords_pairs]\n",
    "        polygons = [f\"(({', '.join(p)}))\" for p in coords_str_clipped]\n",
    "        return f\"MULTIPOLYGON ({', '.join(polygons)})\"\n",
    "    elif wkt_str.strip().startswith('POINT'):\n",
    "        coords_str = wkt_str.strip().split('(')[-1].replace(')', '')\n",
    "        coords_str_pair = coords_str.split(' ')\n",
    "        return f\"POINT ({float(coords_str_pair[0]):.{decimals}f} {float(coords_str_pair[1]):.{decimals}f})\""
   ]
  },
  {
   "cell_type": "code",
   "execution_count": null,
   "metadata": {},
   "outputs": [],
   "source": [
    "def convert_special_characters(attr : str) -> str:\n",
    "    \"\"\"\n",
    "    Converts special characters in query attributes to ensure compatibility with ODATA API.\n",
    "    \n",
    "    Parameters\n",
    "    ----------\n",
    "    attr : str\n",
    "        The attribute.\n",
    "    \n",
    "    Returns\n",
    "    -------\n",
    "    str\n",
    "        The attribute with special characters replaced.\n",
    "    \"\"\"\n",
    "\n",
    "    attr = attr.replace(\"'\", \"''\")\n",
    "    attr = attr.replace('%', \"%25\")\n",
    "    attr = attr.replace('+', \"%2B\")\n",
    "    attr = attr.replace('/', \"%2F\")\n",
    "    attr = attr.replace('?', \"%3F\")\n",
    "    attr = attr.replace('#', \"%23\")\n",
    "    attr = attr.replace('&', \"%26\")\n",
    "\n",
    "    return attr"
   ]
  }
 ],
 "metadata": {
  "language_info": {
   "name": "python"
  }
 },
 "nbformat": 4,
 "nbformat_minor": 2
}
