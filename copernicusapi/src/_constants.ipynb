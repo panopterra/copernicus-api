{
    "cells": [
        {
            "cell_type": "markdown",
            "metadata": {},
            "source": [
                "# Constants\n",
                "\n",
                "(c) 2024 Panopterra UG (haftungsbeschraenkt)\n",
                "\n",
                "---"
            ]
        },
        {
            "cell_type": "markdown",
            "metadata": {},
            "source": [
                "### Constants"
            ]
        },
        {
            "cell_type": "code",
            "execution_count": null,
            "metadata": {},
            "outputs": [],
            "source": [
                "COLLECTIONS_SUPPORTING_CLOUD_COVER = ('SENTINEL-2', 'LANDSAT-5', 'LANDSAT-7', 'LANDSAT-8')"
            ]
        },
        {
            "cell_type": "code",
            "execution_count": null,
            "metadata": {},
            "outputs": [],
            "source": [
                "COLLECTION_PRODUCT_TYPE_MATCHES = {'SENTINEL-1': ('CARD-BS', 'CARD-COH6', 'RAW', 'SLC', 'GRD', 'OCN'),\n",
                "                                   'SENTINEL-2': ('S2MSI1C', 'S2MSI2A'),\n",
                "                                   'SENTINEL-3': ('EFR', 'ERR', 'WFR', 'WRR', 'LFR', 'LRR', 'RBT', 'LST', 'WST', 'WCT', \\\n",
                "                                                  'FRP', 'SRA', 'SRA_A', 'SRA_BS', 'LAN', 'LAN_HY', 'LAN_SI', 'LAN_LI', \\\n",
                "                                                  'WAT', 'SYN', 'VGP', 'VG1', 'VG10', 'AOD'),\n",
                "                                   'SENTINEL-5P': ('L1B_RA_BD1', 'L1B_RA_BD2', 'L1B_RA_BD3', 'L1B_RA_BD4', 'L1B_RA_BD5', \\\n",
                "                                                   'L1B_RA_BD6', 'L1B_RA_BD7', 'L1B_RA_BD8', 'IR_SIR', 'IR_UVN', \\\n",
                "                                                   'L2__O3____', 'L2__O3_TCL', 'L2__O3__PR', 'L2__NO2___', 'L2__SO2___', \\\n",
                "                                                   'L2__CH4___', 'L2__HCHO__', 'L2__CLOUD_', 'L2__AER_AI', 'L2__AER_LH'),\n",
                "                                   'LANDSAT-5': ('L1G', 'L1T'),\n",
                "                                   'LANDSAT-7': ('L1G', 'L1T', 'L1GT', 'GTC_1P'),\n",
                "                                   'LANDSAT-8': ('L1T', 'L1GT', 'L1TP', 'L2SP'),\n",
                "                                   }"
            ]
        }
    ],
    "metadata": {
        "interpreter": {
            "hash": "efdd46ba2b7f8a252690b16440602db3784b64c8c7d7cfae3f3fd228441ea834"
        },
        "kernelspec": {
            "display_name": "Python 3",
            "language": "python",
            "name": "python3"
        },
        "language_info": {
            "codemirror_mode": {
                "name": "ipython",
                "version": 3
            },
            "file_extension": ".py",
            "mimetype": "text/x-python",
            "name": "python",
            "nbconvert_exporter": "python",
            "pygments_lexer": "ipython3",
            "version": "3.11.8"
        }
    },
    "nbformat": 4,
    "nbformat_minor": 4
}
